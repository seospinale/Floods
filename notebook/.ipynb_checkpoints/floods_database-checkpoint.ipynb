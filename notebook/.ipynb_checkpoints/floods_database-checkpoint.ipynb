{
 "cells": [
  {
   "cell_type": "code",
   "execution_count": 76,
   "metadata": {},
   "outputs": [
    {
     "ename": "ArgumentError",
     "evalue": "ArgumentError: Package colors not found in current path:\n- Run `import Pkg; Pkg.add(\"colors\")` to install the colors package.\n",
     "output_type": "error",
     "traceback": [
      "ArgumentError: Package colors not found in current path:\n- Run `import Pkg; Pkg.add(\"colors\")` to install the colors package.\n",
      "",
      "Stacktrace:",
      " [1] require(::Module, ::Symbol) at ./loading.jl:892",
      " [2] top-level scope at In[76]:7"
     ]
    }
   ],
   "source": [
    "using Plots\n",
    "using DataFrames\n",
    "using CSV\n",
    "using Dates\n",
    "using Statistics\n",
    "using StatsBase\n",
    "using colors"
   ]
  },
  {
   "cell_type": "code",
   "execution_count": 77,
   "metadata": {},
   "outputs": [
    {
     "ename": "Pkg.Types.PkgError",
     "evalue": "The following package names could not be resolved:\n * colors (not found in project, manifest or registry)\n",
     "output_type": "error",
     "traceback": [
      "The following package names could not be resolved:\n * colors (not found in project, manifest or registry)\n",
      "",
      "Stacktrace:",
      " [1] pkgerror(::String) at /buildworker/worker/package_linux64/build/usr/share/julia/stdlib/v1.4/Pkg/src/Types.jl:53",
      " [2] ensure_resolved(::Pkg.Types.Context, ::Array{Pkg.Types.PackageSpec,1}; registry::Bool) at /buildworker/worker/package_linux64/build/usr/share/julia/stdlib/v1.4/Pkg/src/Types.jl:802",
      " [3] add(::Pkg.Types.Context, ::Array{Pkg.Types.PackageSpec,1}; preserve::Pkg.Types.PreserveLevel, platform::Pkg.BinaryPlatforms.Linux, kwargs::Base.Iterators.Pairs{Union{},Union{},Tuple{},NamedTuple{(),Tuple{}}}) at /buildworker/worker/package_linux64/build/usr/share/julia/stdlib/v1.4/Pkg/src/API.jl:148",
      " [4] add(::Pkg.Types.Context, ::Array{Pkg.Types.PackageSpec,1}) at /buildworker/worker/package_linux64/build/usr/share/julia/stdlib/v1.4/Pkg/src/API.jl:112",
      " [5] #add#27 at /buildworker/worker/package_linux64/build/usr/share/julia/stdlib/v1.4/Pkg/src/API.jl:109 [inlined]",
      " [6] add at /buildworker/worker/package_linux64/build/usr/share/julia/stdlib/v1.4/Pkg/src/API.jl:109 [inlined]",
      " [7] #add#24 at /buildworker/worker/package_linux64/build/usr/share/julia/stdlib/v1.4/Pkg/src/API.jl:107 [inlined]",
      " [8] add at /buildworker/worker/package_linux64/build/usr/share/julia/stdlib/v1.4/Pkg/src/API.jl:107 [inlined]",
      " [9] add(::String; kwargs::Base.Iterators.Pairs{Union{},Union{},Tuple{},NamedTuple{(),Tuple{}}}) at /buildworker/worker/package_linux64/build/usr/share/julia/stdlib/v1.4/Pkg/src/API.jl:106",
      " [10] add(::String) at /buildworker/worker/package_linux64/build/usr/share/julia/stdlib/v1.4/Pkg/src/API.jl:106",
      " [11] top-level scope at In[77]:1"
     ]
    }
   ],
   "source": []
  },
  {
   "cell_type": "code",
   "execution_count": 120,
   "metadata": {},
   "outputs": [
    {
     "data": {
      "text/plain": [
       "histograma (generic function with 2 methods)"
      ]
     },
     "execution_count": 120,
     "metadata": {},
     "output_type": "execute_result"
    }
   ],
   "source": [
    "function histograma(x, bins = -1; nbins = 10, norm = true)\n",
    "    \n",
    "    x = filter(isfinite, x)\n",
    "    \n",
    "    if bins != -1\n",
    "        hist = fit(Histogram, x, bins)\n",
    "    else\n",
    "        hist = fit(Histogram, x, nbins = nbins)\n",
    "    end\n",
    "    \n",
    "    bins = (hist.edges[1][1:end-1] + hist.edges[1][2:end])/2\n",
    "    \n",
    "    if norm\n",
    "        hist = hist.weights/sum(hist.weights)\n",
    "    else\n",
    "        hist = hist.weights\n",
    "    end \n",
    "        \n",
    "    return hist, bins\n",
    "end"
   ]
  },
  {
   "cell_type": "code",
   "execution_count": 69,
   "metadata": {},
   "outputs": [],
   "source": [
    "Geography = DataFrame!(CSV.File(\"../data/table/desinventar/csvs/Geography.csv\"));\n",
    "Disaster = DataFrame!(CSV.File(\"../data/table/desinventar/csvs/Disaster.csv\"));\n",
    "Cause = DataFrame!(CSV.File(\"../data/table/desinventar/csvs/Cause.csv\"));\n",
    "Event = DataFrame!(CSV.File(\"../data/table/desinventar/csvs/Event.csv\"));\n",
    "Event = DataFrame!(CSV.File(\"../data/table/desinventar/csvs/Event.csv\"));"
   ]
  },
  {
   "cell_type": "code",
   "execution_count": 71,
   "metadata": {},
   "outputs": [],
   "source": [
    "desinventar = innerjoin(Disaster, Geography, on = :GeographyId, makeunique=true)\n",
    "desinventar = innerjoin(desinventar, Cause, on = :CauseId, makeunique=true) \n",
    "desinventar = innerjoin(desinventar, Event, on = :EventId, makeunique=true);\n"
   ]
  },
  {
   "cell_type": "code",
   "execution_count": null,
   "metadata": {},
   "outputs": [],
   "source": [
    "\"Inundación\", "
   ]
  },
  {
   "cell_type": "code",
   "execution_count": 148,
   "metadata": {},
   "outputs": [],
   "source": [
    "desinventar[map(x -> x in [\"Inundación\", \"Avenida torrencial\"], desinventar.EventName), :];"
   ]
  },
  {
   "cell_type": "code",
   "execution_count": 149,
   "metadata": {},
   "outputs": [
    {
     "ename": "UndefVarError",
     "evalue": "UndefVarError: Info not defined",
     "output_type": "error",
     "traceback": [
      "UndefVarError: Info not defined",
      "",
      "Stacktrace:",
      " [1] top-level scope at In[149]:1"
     ]
    }
   ],
   "source": [
    "Info"
   ]
  },
  {
   "cell_type": "code",
   "execution_count": 139,
   "metadata": {},
   "outputs": [
    {
     "data": {
      "text/plain": [
       "38-element Array{String,1}:\n",
       " \"Deslizamiento\"\n",
       " \"Inundación\"\n",
       " \"Lluvias\"\n",
       " \"Intoxicación\"\n",
       " \"Avenida torrencial\"\n",
       " \"Tormenta eléctrica\"\n",
       " \"Otro\"\n",
       " \"Marejada\"\n",
       " \"Vendaval\"\n",
       " \"Colapso estructural\"\n",
       " \"Explosión\"\n",
       " \"Accidente\"\n",
       " \"Incendio\"\n",
       " ⋮\n",
       " \"Escape\"\n",
       " \"Huracán\"\n",
       " \"Granizada\"\n",
       " \"Pánico\"\n",
       " \"Alud\"\n",
       " \"Epidemia\"\n",
       " \"Nevada\"\n",
       " \"Tsunami\"\n",
       " \"Erosión\"\n",
       " \"Tornado\"\n",
       " \"Aluvión\"\n",
       " \"Naufragio\""
      ]
     },
     "execution_count": 139,
     "metadata": {},
     "output_type": "execute_result"
    }
   ],
   "source": [
    "unique(desinventar.EventName)"
   ]
  },
  {
   "cell_type": "code",
   "execution_count": 135,
   "metadata": {},
   "outputs": [
    {
     "data": {
      "text/plain": [
       "31-element Array{String,1}:\n",
       " \"Lluvias\"\n",
       " \"Desbordamiento\"\n",
       " \"Condiciones atmosféricas\"\n",
       " \"Contaminación\"\n",
       " \"Localización\"\n",
       " \"Desconocida\"\n",
       " \"Inundación\"\n",
       " \"Error humano\"\n",
       " \"Otra causa\"\n",
       " \"Cortocircuito\"\n",
       " \"Negligencia\"\n",
       " \"Explosión\"\n",
       " \"Sequía\"\n",
       " ⋮\n",
       " \"Actividad volcánica\"\n",
       " \"Diseño\"\n",
       " \"Falla\"\n",
       " \"Erosión\"\n",
       " \"Deslizamiento\"\n",
       " \"El Niño\"\n",
       " \"Tala\"\n",
       " \"Sismo\"\n",
       " \"Vendaval\"\n",
       " \"La Niña\"\n",
       " \"Plaga\"\n",
       " \"Accidente de tránsito\""
      ]
     },
     "execution_count": 135,
     "metadata": {},
     "output_type": "execute_result"
    }
   ],
   "source": [
    "unique(desinventar.CauseName)"
   ]
  },
  {
   "cell_type": "code",
   "execution_count": 127,
   "metadata": {},
   "outputs": [],
   "source": [
    "hist, bins = histograma(filter(x -> (x > 0)&(x < 100), desinventar.EffectPeopleDead), nbins = 30, norm = false);"
   ]
  },
  {
   "cell_type": "code",
   "execution_count": 128,
   "metadata": {},
   "outputs": [
    {
     "data": {
      "text/html": [
       "<table class=\"data-frame\"><thead><tr><th></th><th>DisasterId</th><th>RegionId</th></tr><tr><th></th><th>String</th><th>String?</th></tr></thead><tbody><p>1 rows × 90 columns (omitted printing of 88 columns)</p><tr><th>1</th><td>0728B957-0005-43AD-95F6-328DCF36FA07</td><td>COL-1250694506-colombia_inventario_historico_de_desastres</td></tr></tbody></table>"
      ],
      "text/latex": [
       "\\begin{tabular}{r|ccc}\n",
       "\t& DisasterId & RegionId & \\\\\n",
       "\t\\hline\n",
       "\t& String & String? & \\\\\n",
       "\t\\hline\n",
       "\t1 & 0728B957-0005-43AD-95F6-328DCF36FA07 & COL-1250694506-colombia\\_inventario\\_historico\\_de\\_desastres & $\\dots$ \\\\\n",
       "\\end{tabular}\n"
      ],
      "text/plain": [
       "1×90 DataFrame. Omitted printing of 89 columns\n",
       "│ Row │ DisasterId                           │\n",
       "│     │ \u001b[90mString\u001b[39m                               │\n",
       "├─────┼──────────────────────────────────────┤\n",
       "│ 1   │ 0728B957-0005-43AD-95F6-328DCF36FA07 │"
      ]
     },
     "execution_count": 128,
     "metadata": {},
     "output_type": "execute_result"
    }
   ],
   "source": [
    "ma = desinventar[desinventar.EffectPeopleDead .== maximum(desinventar.EffectPeopleDead), :]"
   ]
  },
  {
   "cell_type": "code",
   "execution_count": 129,
   "metadata": {},
   "outputs": [
    {
     "data": {
      "image/svg+xml": [
       "<?xml version=\"1.0\" encoding=\"UTF-8\"?>\n",
       "<!DOCTYPE svg PUBLIC \"-//W3C//DTD SVG 1.1//EN\"\n",
       " \"http://www.w3.org/Graphics/SVG/1.1/DTD/svg11.dtd\">\n",
       "<svg xmlns=\"http://www.w3.org/2000/svg\" version=\"1.1\"\n",
       "     width=\"25mm\" height=\"25mm\" viewBox=\"0 0 1 1\">\n",
       "    <rect width=\"1\" height=\"1\" fill=\"#AB7923\" stroke=\"none\"/>\n",
       "</svg>\n"
      ],
      "text/plain": [
       "RGB{N0f8}(0.671,0.475,0.137)"
      ]
     },
     "execution_count": 129,
     "metadata": {},
     "output_type": "execute_result"
    }
   ],
   "source": [
    "colorant\"#AB7923\""
   ]
  },
  {
   "cell_type": "code",
   "execution_count": 130,
   "metadata": {},
   "outputs": [
    {
     "data": {
      "text/plain": [
       "1-element Array{String,1}:\n",
       " \"2013\""
      ]
     },
     "execution_count": 130,
     "metadata": {},
     "output_type": "execute_result"
    }
   ],
   "source": [
    "ma.DisasterBeginTime"
   ]
  },
  {
   "cell_type": "code",
   "execution_count": 131,
   "metadata": {},
   "outputs": [
    {
     "data": {
      "text/plain": [
       "537.1382000001468"
      ]
     },
     "execution_count": 131,
     "metadata": {},
     "output_type": "execute_result"
    }
   ],
   "source": [
    "percentile(desinventar.EffectPeopleDead, 99.99)"
   ]
  },
  {
   "cell_type": "code",
   "execution_count": 133,
   "metadata": {},
   "outputs": [
    {
     "data": {
      "text/plain": [
       "4371"
      ]
     },
     "execution_count": 133,
     "metadata": {},
     "output_type": "execute_result"
    }
   ],
   "source": [
    "sum(hist)"
   ]
  },
  {
   "cell_type": "code",
   "execution_count": 132,
   "metadata": {},
   "outputs": [
    {
     "data": {
      "image/svg+xml": [
       "<?xml version=\"1.0\" encoding=\"utf-8\"?>\n",
       "<svg xmlns=\"http://www.w3.org/2000/svg\" xmlns:xlink=\"http://www.w3.org/1999/xlink\" width=\"600\" height=\"400\" viewBox=\"0 0 2400 1600\">\n",
       "<defs>\n",
       "  <clipPath id=\"clip940\">\n",
       "    <rect x=\"0\" y=\"0\" width=\"2400\" height=\"1600\"/>\n",
       "  </clipPath>\n",
       "</defs>\n",
       "<path clip-path=\"url(#clip940)\" d=\"\n",
       "M0 1600 L2400 1600 L2400 0 L0 0  Z\n",
       "  \" fill=\"#ffffff\" fill-rule=\"evenodd\" fill-opacity=\"1\"/>\n",
       "<defs>\n",
       "  <clipPath id=\"clip941\">\n",
       "    <rect x=\"480\" y=\"0\" width=\"1681\" height=\"1600\"/>\n",
       "  </clipPath>\n",
       "</defs>\n",
       "<path clip-path=\"url(#clip940)\" d=\"\n",
       "M190.788 1486.45 L2352.76 1486.45 L2352.76 47.2441 L190.788 47.2441  Z\n",
       "  \" fill=\"#ffffff\" fill-rule=\"evenodd\" fill-opacity=\"1\"/>\n",
       "<defs>\n",
       "  <clipPath id=\"clip942\">\n",
       "    <rect x=\"190\" y=\"47\" width=\"2163\" height=\"1440\"/>\n",
       "  </clipPath>\n",
       "</defs>\n",
       "<polyline clip-path=\"url(#clip942)\" style=\"stroke:#000000; stroke-width:2; stroke-opacity:0.1; fill:none\" points=\"\n",
       "  299.465,1486.45 299.465,47.2441 \n",
       "  \"/>\n",
       "<polyline clip-path=\"url(#clip942)\" style=\"stroke:#000000; stroke-width:2; stroke-opacity:0.1; fill:none\" points=\"\n",
       "  811.206,1486.45 811.206,47.2441 \n",
       "  \"/>\n",
       "<polyline clip-path=\"url(#clip942)\" style=\"stroke:#000000; stroke-width:2; stroke-opacity:0.1; fill:none\" points=\"\n",
       "  1322.95,1486.45 1322.95,47.2441 \n",
       "  \"/>\n",
       "<polyline clip-path=\"url(#clip942)\" style=\"stroke:#000000; stroke-width:2; stroke-opacity:0.1; fill:none\" points=\"\n",
       "  1834.69,1486.45 1834.69,47.2441 \n",
       "  \"/>\n",
       "<polyline clip-path=\"url(#clip942)\" style=\"stroke:#000000; stroke-width:2; stroke-opacity:0.1; fill:none\" points=\"\n",
       "  2346.43,1486.45 2346.43,47.2441 \n",
       "  \"/>\n",
       "<polyline clip-path=\"url(#clip942)\" style=\"stroke:#000000; stroke-width:2; stroke-opacity:0.1; fill:none\" points=\"\n",
       "  190.788,1445.72 2352.76,1445.72 \n",
       "  \"/>\n",
       "<polyline clip-path=\"url(#clip942)\" style=\"stroke:#000000; stroke-width:2; stroke-opacity:0.1; fill:none\" points=\"\n",
       "  190.788,1062.93 2352.76,1062.93 \n",
       "  \"/>\n",
       "<polyline clip-path=\"url(#clip942)\" style=\"stroke:#000000; stroke-width:2; stroke-opacity:0.1; fill:none\" points=\"\n",
       "  190.788,680.145 2352.76,680.145 \n",
       "  \"/>\n",
       "<polyline clip-path=\"url(#clip942)\" style=\"stroke:#000000; stroke-width:2; stroke-opacity:0.1; fill:none\" points=\"\n",
       "  190.788,297.36 2352.76,297.36 \n",
       "  \"/>\n",
       "<polyline clip-path=\"url(#clip940)\" style=\"stroke:#000000; stroke-width:4; stroke-opacity:1; fill:none\" points=\"\n",
       "  190.788,1486.45 2352.76,1486.45 \n",
       "  \"/>\n",
       "<polyline clip-path=\"url(#clip940)\" style=\"stroke:#000000; stroke-width:4; stroke-opacity:1; fill:none\" points=\"\n",
       "  190.788,1486.45 190.788,47.2441 \n",
       "  \"/>\n",
       "<polyline clip-path=\"url(#clip940)\" style=\"stroke:#000000; stroke-width:4; stroke-opacity:1; fill:none\" points=\"\n",
       "  299.465,1486.45 299.465,1469.18 \n",
       "  \"/>\n",
       "<polyline clip-path=\"url(#clip940)\" style=\"stroke:#000000; stroke-width:4; stroke-opacity:1; fill:none\" points=\"\n",
       "  811.206,1486.45 811.206,1469.18 \n",
       "  \"/>\n",
       "<polyline clip-path=\"url(#clip940)\" style=\"stroke:#000000; stroke-width:4; stroke-opacity:1; fill:none\" points=\"\n",
       "  1322.95,1486.45 1322.95,1469.18 \n",
       "  \"/>\n",
       "<polyline clip-path=\"url(#clip940)\" style=\"stroke:#000000; stroke-width:4; stroke-opacity:1; fill:none\" points=\"\n",
       "  1834.69,1486.45 1834.69,1469.18 \n",
       "  \"/>\n",
       "<polyline clip-path=\"url(#clip940)\" style=\"stroke:#000000; stroke-width:4; stroke-opacity:1; fill:none\" points=\"\n",
       "  2346.43,1486.45 2346.43,1469.18 \n",
       "  \"/>\n",
       "<polyline clip-path=\"url(#clip940)\" style=\"stroke:#000000; stroke-width:4; stroke-opacity:1; fill:none\" points=\"\n",
       "  190.788,1445.72 216.731,1445.72 \n",
       "  \"/>\n",
       "<polyline clip-path=\"url(#clip940)\" style=\"stroke:#000000; stroke-width:4; stroke-opacity:1; fill:none\" points=\"\n",
       "  190.788,1062.93 216.731,1062.93 \n",
       "  \"/>\n",
       "<polyline clip-path=\"url(#clip940)\" style=\"stroke:#000000; stroke-width:4; stroke-opacity:1; fill:none\" points=\"\n",
       "  190.788,680.145 216.731,680.145 \n",
       "  \"/>\n",
       "<polyline clip-path=\"url(#clip940)\" style=\"stroke:#000000; stroke-width:4; stroke-opacity:1; fill:none\" points=\"\n",
       "  190.788,297.36 216.731,297.36 \n",
       "  \"/>\n",
       "<path clip-path=\"url(#clip940)\" d=\"M 0 0 M299.465 1508.44 Q295.854 1508.44 294.025 1512 Q292.22 1515.55 292.22 1522.67 Q292.22 1529.78 294.025 1533.35 Q295.854 1536.89 299.465 1536.89 Q303.099 1536.89 304.905 1533.35 Q306.734 1529.78 306.734 1522.67 Q306.734 1515.55 304.905 1512 Q303.099 1508.44 299.465 1508.44 M299.465 1504.73 Q305.275 1504.73 308.331 1509.34 Q311.41 1513.92 311.41 1522.67 Q311.41 1531.4 308.331 1536.01 Q305.275 1540.59 299.465 1540.59 Q293.655 1540.59 290.576 1536.01 Q287.521 1531.4 287.521 1522.67 Q287.521 1513.92 290.576 1509.34 Q293.655 1504.73 299.465 1504.73 Z\" fill=\"#000000\" fill-rule=\"evenodd\" fill-opacity=\"1\" /><path clip-path=\"url(#clip940)\" d=\"M 0 0 M792.849 1535.98 L809.169 1535.98 L809.169 1539.92 L787.224 1539.92 L787.224 1535.98 Q789.886 1533.23 794.47 1528.6 Q799.076 1523.95 800.257 1522.61 Q802.502 1520.08 803.382 1518.35 Q804.284 1516.59 804.284 1514.9 Q804.284 1512.14 802.34 1510.41 Q800.419 1508.67 797.317 1508.67 Q795.118 1508.67 792.664 1509.43 Q790.233 1510.2 787.456 1511.75 L787.456 1507.03 Q790.28 1505.89 792.733 1505.31 Q795.187 1504.73 797.224 1504.73 Q802.594 1504.73 805.789 1507.42 Q808.983 1510.11 808.983 1514.6 Q808.983 1516.73 808.173 1518.65 Q807.386 1520.54 805.28 1523.14 Q804.701 1523.81 801.599 1527.03 Q798.497 1530.22 792.849 1535.98 Z\" fill=\"#000000\" fill-rule=\"evenodd\" fill-opacity=\"1\" /><path clip-path=\"url(#clip940)\" d=\"M 0 0 M814.284 1505.36 L832.641 1505.36 L832.641 1509.3 L818.567 1509.3 L818.567 1517.77 Q819.585 1517.42 820.604 1517.26 Q821.622 1517.07 822.641 1517.07 Q828.428 1517.07 831.807 1520.24 Q835.187 1523.42 835.187 1528.83 Q835.187 1534.41 831.715 1537.51 Q828.242 1540.59 821.923 1540.59 Q819.747 1540.59 817.479 1540.22 Q815.233 1539.85 812.826 1539.11 L812.826 1534.41 Q814.909 1535.54 817.131 1536.1 Q819.354 1536.66 821.83 1536.66 Q825.835 1536.66 828.173 1534.55 Q830.511 1532.44 830.511 1528.83 Q830.511 1525.22 828.173 1523.11 Q825.835 1521.01 821.83 1521.01 Q819.955 1521.01 818.08 1521.42 Q816.229 1521.84 814.284 1522.72 L814.284 1505.36 Z\" fill=\"#000000\" fill-rule=\"evenodd\" fill-opacity=\"1\" /><path clip-path=\"url(#clip940)\" d=\"M 0 0 M1299.72 1505.36 L1318.07 1505.36 L1318.07 1509.3 L1304 1509.3 L1304 1517.77 Q1305.02 1517.42 1306.04 1517.26 Q1307.05 1517.07 1308.07 1517.07 Q1313.86 1517.07 1317.24 1520.24 Q1320.62 1523.42 1320.62 1528.83 Q1320.62 1534.41 1317.15 1537.51 Q1313.68 1540.59 1307.36 1540.59 Q1305.18 1540.59 1302.91 1540.22 Q1300.67 1539.85 1298.26 1539.11 L1298.26 1534.41 Q1300.34 1535.54 1302.56 1536.1 Q1304.79 1536.66 1307.26 1536.66 Q1311.27 1536.66 1313.61 1534.55 Q1315.94 1532.44 1315.94 1528.83 Q1315.94 1525.22 1313.61 1523.11 Q1311.27 1521.01 1307.26 1521.01 Q1305.39 1521.01 1303.51 1521.42 Q1301.66 1521.84 1299.72 1522.72 L1299.72 1505.36 Z\" fill=\"#000000\" fill-rule=\"evenodd\" fill-opacity=\"1\" /><path clip-path=\"url(#clip940)\" d=\"M 0 0 M1335.69 1508.44 Q1332.08 1508.44 1330.25 1512 Q1328.44 1515.55 1328.44 1522.67 Q1328.44 1529.78 1330.25 1533.35 Q1332.08 1536.89 1335.69 1536.89 Q1339.32 1536.89 1341.13 1533.35 Q1342.96 1529.78 1342.96 1522.67 Q1342.96 1515.55 1341.13 1512 Q1339.32 1508.44 1335.69 1508.44 M1335.69 1504.73 Q1341.5 1504.73 1344.55 1509.34 Q1347.63 1513.92 1347.63 1522.67 Q1347.63 1531.4 1344.55 1536.01 Q1341.5 1540.59 1335.69 1540.59 Q1329.88 1540.59 1326.8 1536.01 Q1323.74 1531.4 1323.74 1522.67 Q1323.74 1513.92 1326.8 1509.34 Q1329.88 1504.73 1335.69 1504.73 Z\" fill=\"#000000\" fill-rule=\"evenodd\" fill-opacity=\"1\" /><path clip-path=\"url(#clip940)\" d=\"M 0 0 M1810.57 1505.36 L1832.79 1505.36 L1832.79 1507.35 L1820.24 1539.92 L1815.36 1539.92 L1827.16 1509.3 L1810.57 1509.3 L1810.57 1505.36 Z\" fill=\"#000000\" fill-rule=\"evenodd\" fill-opacity=\"1\" /><path clip-path=\"url(#clip940)\" d=\"M 0 0 M1837.9 1505.36 L1856.26 1505.36 L1856.26 1509.3 L1842.19 1509.3 L1842.19 1517.77 Q1843.2 1517.42 1844.22 1517.26 Q1845.24 1517.07 1846.26 1517.07 Q1852.05 1517.07 1855.43 1520.24 Q1858.81 1523.42 1858.81 1528.83 Q1858.81 1534.41 1855.33 1537.51 Q1851.86 1540.59 1845.54 1540.59 Q1843.37 1540.59 1841.1 1540.22 Q1838.85 1539.85 1836.45 1539.11 L1836.45 1534.41 Q1838.53 1535.54 1840.75 1536.1 Q1842.97 1536.66 1845.45 1536.66 Q1849.45 1536.66 1851.79 1534.55 Q1854.13 1532.44 1854.13 1528.83 Q1854.13 1525.22 1851.79 1523.11 Q1849.45 1521.01 1845.45 1521.01 Q1843.58 1521.01 1841.7 1521.42 Q1839.85 1521.84 1837.9 1522.72 L1837.9 1505.36 Z\" fill=\"#000000\" fill-rule=\"evenodd\" fill-opacity=\"1\" /><path clip-path=\"url(#clip940)\" d=\"M 0 0 M2309.79 1535.98 L2317.43 1535.98 L2317.43 1509.62 L2309.12 1511.29 L2309.12 1507.03 L2317.39 1505.36 L2322.06 1505.36 L2322.06 1535.98 L2329.7 1535.98 L2329.7 1539.92 L2309.79 1539.92 L2309.79 1535.98 Z\" fill=\"#000000\" fill-rule=\"evenodd\" fill-opacity=\"1\" /><path clip-path=\"url(#clip940)\" d=\"M 0 0 M2344.77 1508.44 Q2341.16 1508.44 2339.33 1512 Q2337.53 1515.55 2337.53 1522.67 Q2337.53 1529.78 2339.33 1533.35 Q2341.16 1536.89 2344.77 1536.89 Q2348.41 1536.89 2350.21 1533.35 Q2352.04 1529.78 2352.04 1522.67 Q2352.04 1515.55 2350.21 1512 Q2348.41 1508.44 2344.77 1508.44 M2344.77 1504.73 Q2350.58 1504.73 2353.64 1509.34 Q2356.72 1513.92 2356.72 1522.67 Q2356.72 1531.4 2353.64 1536.01 Q2350.58 1540.59 2344.77 1540.59 Q2338.96 1540.59 2335.88 1536.01 Q2332.83 1531.4 2332.83 1522.67 Q2332.83 1513.92 2335.88 1509.34 Q2338.96 1504.73 2344.77 1504.73 Z\" fill=\"#000000\" fill-rule=\"evenodd\" fill-opacity=\"1\" /><path clip-path=\"url(#clip940)\" d=\"M 0 0 M2371.79 1508.44 Q2368.17 1508.44 2366.35 1512 Q2364.54 1515.55 2364.54 1522.67 Q2364.54 1529.78 2366.35 1533.35 Q2368.17 1536.89 2371.79 1536.89 Q2375.42 1536.89 2377.23 1533.35 Q2379.05 1529.78 2379.05 1522.67 Q2379.05 1515.55 2377.23 1512 Q2375.42 1508.44 2371.79 1508.44 M2371.79 1504.73 Q2377.6 1504.73 2380.65 1509.34 Q2383.73 1513.92 2383.73 1522.67 Q2383.73 1531.4 2380.65 1536.01 Q2377.6 1540.59 2371.79 1540.59 Q2365.98 1540.59 2362.9 1536.01 Q2359.84 1531.4 2359.84 1522.67 Q2359.84 1513.92 2362.9 1509.34 Q2365.98 1504.73 2371.79 1504.73 Z\" fill=\"#000000\" fill-rule=\"evenodd\" fill-opacity=\"1\" /><path clip-path=\"url(#clip940)\" d=\"M 0 0 M154.843 1431.51 Q151.232 1431.51 149.404 1435.08 Q147.598 1438.62 147.598 1445.75 Q147.598 1452.86 149.404 1456.42 Q151.232 1459.96 154.843 1459.96 Q158.478 1459.96 160.283 1456.42 Q162.112 1452.86 162.112 1445.75 Q162.112 1438.62 160.283 1435.08 Q158.478 1431.51 154.843 1431.51 M154.843 1427.81 Q160.654 1427.81 163.709 1432.42 Q166.788 1437 166.788 1445.75 Q166.788 1454.48 163.709 1459.08 Q160.654 1463.67 154.843 1463.67 Q149.033 1463.67 145.955 1459.08 Q142.899 1454.48 142.899 1445.75 Q142.899 1437 145.955 1432.42 Q149.033 1427.81 154.843 1427.81 Z\" fill=\"#000000\" fill-rule=\"evenodd\" fill-opacity=\"1\" /><path clip-path=\"url(#clip940)\" d=\"M 0 0 M65.8393 1076.28 L73.4782 1076.28 L73.4782 1049.91 L65.168 1051.58 L65.168 1047.32 L73.4319 1045.65 L78.1078 1045.65 L78.1078 1076.28 L85.7466 1076.28 L85.7466 1080.21 L65.8393 1080.21 L65.8393 1076.28 Z\" fill=\"#000000\" fill-rule=\"evenodd\" fill-opacity=\"1\" /><path clip-path=\"url(#clip940)\" d=\"M 0 0 M100.816 1048.73 Q97.2049 1048.73 95.3762 1052.29 Q93.5707 1055.84 93.5707 1062.97 Q93.5707 1070.07 95.3762 1073.64 Q97.2049 1077.18 100.816 1077.18 Q104.45 1077.18 106.256 1073.64 Q108.084 1070.07 108.084 1062.97 Q108.084 1055.84 106.256 1052.29 Q104.45 1048.73 100.816 1048.73 M100.816 1045.03 Q106.626 1045.03 109.682 1049.63 Q112.76 1054.22 112.76 1062.97 Q112.76 1071.69 109.682 1076.3 Q106.626 1080.88 100.816 1080.88 Q95.0058 1080.88 91.9272 1076.3 Q88.8716 1071.69 88.8716 1062.97 Q88.8716 1054.22 91.9272 1049.63 Q95.0058 1045.03 100.816 1045.03 Z\" fill=\"#000000\" fill-rule=\"evenodd\" fill-opacity=\"1\" /><path clip-path=\"url(#clip940)\" d=\"M 0 0 M127.83 1048.73 Q124.219 1048.73 122.39 1052.29 Q120.584 1055.84 120.584 1062.97 Q120.584 1070.07 122.39 1073.64 Q124.219 1077.18 127.83 1077.18 Q131.464 1077.18 133.27 1073.64 Q135.098 1070.07 135.098 1062.97 Q135.098 1055.84 133.27 1052.29 Q131.464 1048.73 127.83 1048.73 M127.83 1045.03 Q133.64 1045.03 136.695 1049.63 Q139.774 1054.22 139.774 1062.97 Q139.774 1071.69 136.695 1076.3 Q133.64 1080.88 127.83 1080.88 Q122.02 1080.88 118.941 1076.3 Q115.885 1071.69 115.885 1062.97 Q115.885 1054.22 118.941 1049.63 Q122.02 1045.03 127.83 1045.03 Z\" fill=\"#000000\" fill-rule=\"evenodd\" fill-opacity=\"1\" /><path clip-path=\"url(#clip940)\" d=\"M 0 0 M154.843 1048.73 Q151.232 1048.73 149.404 1052.29 Q147.598 1055.84 147.598 1062.97 Q147.598 1070.07 149.404 1073.64 Q151.232 1077.18 154.843 1077.18 Q158.478 1077.18 160.283 1073.64 Q162.112 1070.07 162.112 1062.97 Q162.112 1055.84 160.283 1052.29 Q158.478 1048.73 154.843 1048.73 M154.843 1045.03 Q160.654 1045.03 163.709 1049.63 Q166.788 1054.22 166.788 1062.97 Q166.788 1071.69 163.709 1076.3 Q160.654 1080.88 154.843 1080.88 Q149.033 1080.88 145.955 1076.3 Q142.899 1071.69 142.899 1062.97 Q142.899 1054.22 145.955 1049.63 Q149.033 1045.03 154.843 1045.03 Z\" fill=\"#000000\" fill-rule=\"evenodd\" fill-opacity=\"1\" /><path clip-path=\"url(#clip940)\" d=\"M 0 0 M69.4273 693.49 L85.7466 693.49 L85.7466 697.425 L63.8023 697.425 L63.8023 693.49 Q66.4643 690.735 71.0476 686.106 Q75.6541 681.453 76.8346 680.11 Q79.08 677.587 79.9596 675.851 Q80.8624 674.092 80.8624 672.402 Q80.8624 669.647 78.918 667.911 Q76.9967 666.175 73.8948 666.175 Q71.6958 666.175 69.2421 666.939 Q66.8115 667.703 64.0338 669.254 L64.0338 664.532 Q66.8578 663.398 69.3115 662.819 Q71.7652 662.24 73.8023 662.24 Q79.1726 662.24 82.367 664.925 Q85.5614 667.61 85.5614 672.101 Q85.5614 674.231 84.7513 676.152 Q83.9642 678.05 81.8578 680.643 Q81.2791 681.314 78.1772 684.532 Q75.0754 687.726 69.4273 693.49 Z\" fill=\"#000000\" fill-rule=\"evenodd\" fill-opacity=\"1\" /><path clip-path=\"url(#clip940)\" d=\"M 0 0 M100.816 665.944 Q97.2049 665.944 95.3762 669.509 Q93.5707 673.05 93.5707 680.18 Q93.5707 687.286 95.3762 690.851 Q97.2049 694.393 100.816 694.393 Q104.45 694.393 106.256 690.851 Q108.084 687.286 108.084 680.18 Q108.084 673.05 106.256 669.509 Q104.45 665.944 100.816 665.944 M100.816 662.24 Q106.626 662.24 109.682 666.847 Q112.76 671.43 112.76 680.18 Q112.76 688.907 109.682 693.513 Q106.626 698.096 100.816 698.096 Q95.0058 698.096 91.9272 693.513 Q88.8716 688.907 88.8716 680.18 Q88.8716 671.43 91.9272 666.847 Q95.0058 662.24 100.816 662.24 Z\" fill=\"#000000\" fill-rule=\"evenodd\" fill-opacity=\"1\" /><path clip-path=\"url(#clip940)\" d=\"M 0 0 M127.83 665.944 Q124.219 665.944 122.39 669.509 Q120.584 673.05 120.584 680.18 Q120.584 687.286 122.39 690.851 Q124.219 694.393 127.83 694.393 Q131.464 694.393 133.27 690.851 Q135.098 687.286 135.098 680.18 Q135.098 673.05 133.27 669.509 Q131.464 665.944 127.83 665.944 M127.83 662.24 Q133.64 662.24 136.695 666.847 Q139.774 671.43 139.774 680.18 Q139.774 688.907 136.695 693.513 Q133.64 698.096 127.83 698.096 Q122.02 698.096 118.941 693.513 Q115.885 688.907 115.885 680.18 Q115.885 671.43 118.941 666.847 Q122.02 662.24 127.83 662.24 Z\" fill=\"#000000\" fill-rule=\"evenodd\" fill-opacity=\"1\" /><path clip-path=\"url(#clip940)\" d=\"M 0 0 M154.843 665.944 Q151.232 665.944 149.404 669.509 Q147.598 673.05 147.598 680.18 Q147.598 687.286 149.404 690.851 Q151.232 694.393 154.843 694.393 Q158.478 694.393 160.283 690.851 Q162.112 687.286 162.112 680.18 Q162.112 673.05 160.283 669.509 Q158.478 665.944 154.843 665.944 M154.843 662.24 Q160.654 662.24 163.709 666.847 Q166.788 671.43 166.788 680.18 Q166.788 688.907 163.709 693.513 Q160.654 698.096 154.843 698.096 Q149.033 698.096 145.955 693.513 Q142.899 688.907 142.899 680.18 Q142.899 671.43 145.955 666.847 Q149.033 662.24 154.843 662.24 Z\" fill=\"#000000\" fill-rule=\"evenodd\" fill-opacity=\"1\" /><path clip-path=\"url(#clip940)\" d=\"M 0 0 M78.617 296.006 Q81.9735 296.723 83.8485 298.992 Q85.7466 301.26 85.7466 304.594 Q85.7466 309.709 82.2281 312.51 Q78.7096 315.311 72.2282 315.311 Q70.0523 315.311 67.7375 314.871 Q65.4458 314.455 62.9921 313.598 L62.9921 309.084 Q64.9366 310.219 67.2514 310.797 Q69.5662 311.376 72.0893 311.376 Q76.4874 311.376 78.7791 309.64 Q81.0939 307.904 81.0939 304.594 Q81.0939 301.538 78.9411 299.825 Q76.8115 298.089 72.9921 298.089 L68.9643 298.089 L68.9643 294.246 L73.1773 294.246 Q76.6263 294.246 78.455 292.881 Q80.2837 291.492 80.2837 288.899 Q80.2837 286.237 78.3856 284.825 Q76.5106 283.39 72.9921 283.39 Q71.0708 283.39 68.8717 283.807 Q66.6727 284.223 64.0338 285.103 L64.0338 280.936 Q66.6958 280.196 69.0106 279.825 Q71.3486 279.455 73.4087 279.455 Q78.7328 279.455 81.8346 281.885 Q84.9365 284.293 84.9365 288.413 Q84.9365 291.283 83.2929 293.274 Q81.6494 295.242 78.617 296.006 Z\" fill=\"#000000\" fill-rule=\"evenodd\" fill-opacity=\"1\" /><path clip-path=\"url(#clip940)\" d=\"M 0 0 M100.816 283.159 Q97.2049 283.159 95.3762 286.723 Q93.5707 290.265 93.5707 297.395 Q93.5707 304.501 95.3762 308.066 Q97.2049 311.607 100.816 311.607 Q104.45 311.607 106.256 308.066 Q108.084 304.501 108.084 297.395 Q108.084 290.265 106.256 286.723 Q104.45 283.159 100.816 283.159 M100.816 279.455 Q106.626 279.455 109.682 284.061 Q112.76 288.645 112.76 297.395 Q112.76 306.121 109.682 310.728 Q106.626 315.311 100.816 315.311 Q95.0058 315.311 91.9272 310.728 Q88.8716 306.121 88.8716 297.395 Q88.8716 288.645 91.9272 284.061 Q95.0058 279.455 100.816 279.455 Z\" fill=\"#000000\" fill-rule=\"evenodd\" fill-opacity=\"1\" /><path clip-path=\"url(#clip940)\" d=\"M 0 0 M127.83 283.159 Q124.219 283.159 122.39 286.723 Q120.584 290.265 120.584 297.395 Q120.584 304.501 122.39 308.066 Q124.219 311.607 127.83 311.607 Q131.464 311.607 133.27 308.066 Q135.098 304.501 135.098 297.395 Q135.098 290.265 133.27 286.723 Q131.464 283.159 127.83 283.159 M127.83 279.455 Q133.64 279.455 136.695 284.061 Q139.774 288.645 139.774 297.395 Q139.774 306.121 136.695 310.728 Q133.64 315.311 127.83 315.311 Q122.02 315.311 118.941 310.728 Q115.885 306.121 115.885 297.395 Q115.885 288.645 118.941 284.061 Q122.02 279.455 127.83 279.455 Z\" fill=\"#000000\" fill-rule=\"evenodd\" fill-opacity=\"1\" /><path clip-path=\"url(#clip940)\" d=\"M 0 0 M154.843 283.159 Q151.232 283.159 149.404 286.723 Q147.598 290.265 147.598 297.395 Q147.598 304.501 149.404 308.066 Q151.232 311.607 154.843 311.607 Q158.478 311.607 160.283 308.066 Q162.112 304.501 162.112 297.395 Q162.112 290.265 160.283 286.723 Q158.478 283.159 154.843 283.159 M154.843 279.455 Q160.654 279.455 163.709 284.061 Q166.788 288.645 166.788 297.395 Q166.788 306.121 163.709 310.728 Q160.654 315.311 154.843 315.311 Q149.033 315.311 145.955 310.728 Q142.899 306.121 142.899 297.395 Q142.899 288.645 145.955 284.061 Q149.033 279.455 154.843 279.455 Z\" fill=\"#000000\" fill-rule=\"evenodd\" fill-opacity=\"1\" /><path clip-path=\"url(#clip942)\" d=\"\n",
       "M309.7 87.9763 L309.7 1445.72 L391.578 1445.72 L391.578 87.9763 L309.7 87.9763 L309.7 87.9763  Z\n",
       "  \" fill=\"#191970\" fill-rule=\"evenodd\" fill-opacity=\"1\"/>\n",
       "<polyline clip-path=\"url(#clip942)\" style=\"stroke:#000000; stroke-width:4; stroke-opacity:1; fill:none\" points=\"\n",
       "  309.7,87.9763 309.7,1445.72 391.578,1445.72 391.578,87.9763 309.7,87.9763 \n",
       "  \"/>\n",
       "<path clip-path=\"url(#clip942)\" d=\"\n",
       "M412.048 1249.73 L412.048 1445.72 L493.926 1445.72 L493.926 1249.73 L412.048 1249.73 L412.048 1249.73  Z\n",
       "  \" fill=\"#191970\" fill-rule=\"evenodd\" fill-opacity=\"1\"/>\n",
       "<polyline clip-path=\"url(#clip942)\" style=\"stroke:#000000; stroke-width:4; stroke-opacity:1; fill:none\" points=\"\n",
       "  412.048,1249.73 412.048,1445.72 493.926,1445.72 493.926,1249.73 412.048,1249.73 \n",
       "  \"/>\n",
       "<path clip-path=\"url(#clip942)\" d=\"\n",
       "M514.396 1388.3 L514.396 1445.72 L596.275 1445.72 L596.275 1388.3 L514.396 1388.3 L514.396 1388.3  Z\n",
       "  \" fill=\"#191970\" fill-rule=\"evenodd\" fill-opacity=\"1\"/>\n",
       "<polyline clip-path=\"url(#clip942)\" style=\"stroke:#000000; stroke-width:4; stroke-opacity:1; fill:none\" points=\"\n",
       "  514.396,1388.3 514.396,1445.72 596.275,1445.72 596.275,1388.3 514.396,1388.3 \n",
       "  \"/>\n",
       "<path clip-path=\"url(#clip942)\" d=\"\n",
       "M616.744 1425.05 L616.744 1445.72 L698.623 1445.72 L698.623 1425.05 L616.744 1425.05 L616.744 1425.05  Z\n",
       "  \" fill=\"#191970\" fill-rule=\"evenodd\" fill-opacity=\"1\"/>\n",
       "<polyline clip-path=\"url(#clip942)\" style=\"stroke:#000000; stroke-width:4; stroke-opacity:1; fill:none\" points=\"\n",
       "  616.744,1425.05 616.744,1445.72 698.623,1445.72 698.623,1425.05 616.744,1425.05 \n",
       "  \"/>\n",
       "<path clip-path=\"url(#clip942)\" d=\"\n",
       "M719.092 1435.76 L719.092 1445.72 L800.971 1445.72 L800.971 1435.76 L719.092 1435.76 L719.092 1435.76  Z\n",
       "  \" fill=\"#191970\" fill-rule=\"evenodd\" fill-opacity=\"1\"/>\n",
       "<polyline clip-path=\"url(#clip942)\" style=\"stroke:#000000; stroke-width:4; stroke-opacity:1; fill:none\" points=\"\n",
       "  719.092,1435.76 719.092,1445.72 800.971,1445.72 800.971,1435.76 719.092,1435.76 \n",
       "  \"/>\n",
       "<path clip-path=\"url(#clip942)\" d=\"\n",
       "M821.44 1440.74 L821.44 1445.72 L903.319 1445.72 L903.319 1440.74 L821.44 1440.74 L821.44 1440.74  Z\n",
       "  \" fill=\"#191970\" fill-rule=\"evenodd\" fill-opacity=\"1\"/>\n",
       "<polyline clip-path=\"url(#clip942)\" style=\"stroke:#000000; stroke-width:4; stroke-opacity:1; fill:none\" points=\"\n",
       "  821.44,1440.74 821.44,1445.72 903.319,1445.72 903.319,1440.74 821.44,1440.74 \n",
       "  \"/>\n",
       "<path clip-path=\"url(#clip942)\" d=\"\n",
       "M923.788 1436.91 L923.788 1445.72 L1005.67 1445.72 L1005.67 1436.91 L923.788 1436.91 L923.788 1436.91  Z\n",
       "  \" fill=\"#191970\" fill-rule=\"evenodd\" fill-opacity=\"1\"/>\n",
       "<polyline clip-path=\"url(#clip942)\" style=\"stroke:#000000; stroke-width:4; stroke-opacity:1; fill:none\" points=\"\n",
       "  923.788,1436.91 923.788,1445.72 1005.67,1445.72 1005.67,1436.91 923.788,1436.91 \n",
       "  \"/>\n",
       "<path clip-path=\"url(#clip942)\" d=\"\n",
       "M1026.14 1444.18 L1026.14 1445.72 L1108.01 1445.72 L1108.01 1444.18 L1026.14 1444.18 L1026.14 1444.18  Z\n",
       "  \" fill=\"#191970\" fill-rule=\"evenodd\" fill-opacity=\"1\"/>\n",
       "<polyline clip-path=\"url(#clip942)\" style=\"stroke:#000000; stroke-width:4; stroke-opacity:1; fill:none\" points=\"\n",
       "  1026.14,1444.18 1026.14,1445.72 1108.01,1445.72 1108.01,1444.18 1026.14,1444.18 \n",
       "  \"/>\n",
       "<path clip-path=\"url(#clip942)\" d=\"\n",
       "M1128.48 1443.42 L1128.48 1445.72 L1210.36 1445.72 L1210.36 1443.42 L1128.48 1443.42 L1128.48 1443.42  Z\n",
       "  \" fill=\"#191970\" fill-rule=\"evenodd\" fill-opacity=\"1\"/>\n",
       "<polyline clip-path=\"url(#clip942)\" style=\"stroke:#000000; stroke-width:4; stroke-opacity:1; fill:none\" points=\"\n",
       "  1128.48,1443.42 1128.48,1445.72 1210.36,1445.72 1210.36,1443.42 1128.48,1443.42 \n",
       "  \"/>\n",
       "<path clip-path=\"url(#clip942)\" d=\"\n",
       "M1230.83 1444.95 L1230.83 1445.72 L1312.71 1445.72 L1312.71 1444.95 L1230.83 1444.95 L1230.83 1444.95  Z\n",
       "  \" fill=\"#191970\" fill-rule=\"evenodd\" fill-opacity=\"1\"/>\n",
       "<polyline clip-path=\"url(#clip942)\" style=\"stroke:#000000; stroke-width:4; stroke-opacity:1; fill:none\" points=\"\n",
       "  1230.83,1444.95 1230.83,1445.72 1312.71,1445.72 1312.71,1444.95 1230.83,1444.95 \n",
       "  \"/>\n",
       "<path clip-path=\"url(#clip942)\" d=\"\n",
       "M1333.18 1441.51 L1333.18 1445.72 L1415.06 1445.72 L1415.06 1441.51 L1333.18 1441.51 L1333.18 1441.51  Z\n",
       "  \" fill=\"#191970\" fill-rule=\"evenodd\" fill-opacity=\"1\"/>\n",
       "<polyline clip-path=\"url(#clip942)\" style=\"stroke:#000000; stroke-width:4; stroke-opacity:1; fill:none\" points=\"\n",
       "  1333.18,1441.51 1333.18,1445.72 1415.06,1445.72 1415.06,1441.51 1333.18,1441.51 \n",
       "  \"/>\n",
       "<path clip-path=\"url(#clip942)\" d=\"\n",
       "M1435.53 1444.18 L1435.53 1445.72 L1517.41 1445.72 L1517.41 1444.18 L1435.53 1444.18 L1435.53 1444.18  Z\n",
       "  \" fill=\"#191970\" fill-rule=\"evenodd\" fill-opacity=\"1\"/>\n",
       "<polyline clip-path=\"url(#clip942)\" style=\"stroke:#000000; stroke-width:4; stroke-opacity:1; fill:none\" points=\"\n",
       "  1435.53,1444.18 1435.53,1445.72 1517.41,1445.72 1517.41,1444.18 1435.53,1444.18 \n",
       "  \"/>\n",
       "<path clip-path=\"url(#clip942)\" d=\"\n",
       "M1537.88 1444.18 L1537.88 1445.72 L1619.76 1445.72 L1619.76 1444.18 L1537.88 1444.18 L1537.88 1444.18  Z\n",
       "  \" fill=\"#191970\" fill-rule=\"evenodd\" fill-opacity=\"1\"/>\n",
       "<polyline clip-path=\"url(#clip942)\" style=\"stroke:#000000; stroke-width:4; stroke-opacity:1; fill:none\" points=\"\n",
       "  1537.88,1444.18 1537.88,1445.72 1619.76,1445.72 1619.76,1444.18 1537.88,1444.18 \n",
       "  \"/>\n",
       "<path clip-path=\"url(#clip942)\" d=\"\n",
       "M1640.22 1444.95 L1640.22 1445.72 L1722.1 1445.72 L1722.1 1444.95 L1640.22 1444.95 L1640.22 1444.95  Z\n",
       "  \" fill=\"#191970\" fill-rule=\"evenodd\" fill-opacity=\"1\"/>\n",
       "<polyline clip-path=\"url(#clip942)\" style=\"stroke:#000000; stroke-width:4; stroke-opacity:1; fill:none\" points=\"\n",
       "  1640.22,1444.95 1640.22,1445.72 1722.1,1445.72 1722.1,1444.95 1640.22,1444.95 \n",
       "  \"/>\n",
       "<path clip-path=\"url(#clip942)\" d=\"\n",
       "M1742.57 1444.57 L1742.57 1445.72 L1824.45 1445.72 L1824.45 1444.57 L1742.57 1444.57 L1742.57 1444.57  Z\n",
       "  \" fill=\"#191970\" fill-rule=\"evenodd\" fill-opacity=\"1\"/>\n",
       "<polyline clip-path=\"url(#clip942)\" style=\"stroke:#000000; stroke-width:4; stroke-opacity:1; fill:none\" points=\"\n",
       "  1742.57,1444.57 1742.57,1445.72 1824.45,1445.72 1824.45,1444.57 1742.57,1444.57 \n",
       "  \"/>\n",
       "<path clip-path=\"url(#clip942)\" d=\"\n",
       "M1844.92 1444.95 L1844.92 1445.72 L1926.8 1445.72 L1926.8 1444.95 L1844.92 1444.95 L1844.92 1444.95  Z\n",
       "  \" fill=\"#191970\" fill-rule=\"evenodd\" fill-opacity=\"1\"/>\n",
       "<polyline clip-path=\"url(#clip942)\" style=\"stroke:#000000; stroke-width:4; stroke-opacity:1; fill:none\" points=\"\n",
       "  1844.92,1444.95 1844.92,1445.72 1926.8,1445.72 1926.8,1444.95 1844.92,1444.95 \n",
       "  \"/>\n",
       "<path clip-path=\"url(#clip942)\" d=\"\n",
       "M1947.27 1443.8 L1947.27 1445.72 L2029.15 1445.72 L2029.15 1443.8 L1947.27 1443.8 L1947.27 1443.8  Z\n",
       "  \" fill=\"#191970\" fill-rule=\"evenodd\" fill-opacity=\"1\"/>\n",
       "<polyline clip-path=\"url(#clip942)\" style=\"stroke:#000000; stroke-width:4; stroke-opacity:1; fill:none\" points=\"\n",
       "  1947.27,1443.8 1947.27,1445.72 2029.15,1445.72 2029.15,1443.8 1947.27,1443.8 \n",
       "  \"/>\n",
       "<path clip-path=\"url(#clip942)\" d=\"\n",
       "M2049.62 1445.33 L2049.62 1445.72 L2131.5 1445.72 L2131.5 1445.33 L2049.62 1445.33 L2049.62 1445.33  Z\n",
       "  \" fill=\"#191970\" fill-rule=\"evenodd\" fill-opacity=\"1\"/>\n",
       "<polyline clip-path=\"url(#clip942)\" style=\"stroke:#000000; stroke-width:4; stroke-opacity:1; fill:none\" points=\"\n",
       "  2049.62,1445.33 2049.62,1445.72 2131.5,1445.72 2131.5,1445.33 2049.62,1445.33 \n",
       "  \"/>\n",
       "<path clip-path=\"url(#clip942)\" d=\"\n",
       "M2151.97 1444.95 L2151.97 1445.72 L2233.84 1445.72 L2233.84 1444.95 L2151.97 1444.95 L2151.97 1444.95  Z\n",
       "  \" fill=\"#191970\" fill-rule=\"evenodd\" fill-opacity=\"1\"/>\n",
       "<polyline clip-path=\"url(#clip942)\" style=\"stroke:#000000; stroke-width:4; stroke-opacity:1; fill:none\" points=\"\n",
       "  2151.97,1444.95 2151.97,1445.72 2233.84,1445.72 2233.84,1444.95 2151.97,1444.95 \n",
       "  \"/>\n",
       "<path clip-path=\"url(#clip940)\" d=\"\n",
       "M1989.45 216.178 L2280.69 216.178 L2280.69 95.2176 L1989.45 95.2176  Z\n",
       "  \" fill=\"#ffffff\" fill-rule=\"evenodd\" fill-opacity=\"1\"/>\n",
       "<polyline clip-path=\"url(#clip940)\" style=\"stroke:#000000; stroke-width:4; stroke-opacity:1; fill:none\" points=\"\n",
       "  1989.45,216.178 2280.69,216.178 2280.69,95.2176 1989.45,95.2176 1989.45,216.178 \n",
       "  \"/>\n",
       "<path clip-path=\"url(#clip940)\" d=\"\n",
       "M2013.48 179.89 L2157.61 179.89 L2157.61 131.506 L2013.48 131.506 L2013.48 179.89  Z\n",
       "  \" fill=\"#191970\" fill-rule=\"evenodd\" fill-opacity=\"1\"/>\n",
       "<polyline clip-path=\"url(#clip940)\" style=\"stroke:#000000; stroke-width:4; stroke-opacity:1; fill:none\" points=\"\n",
       "  2013.48,179.89 2157.61,179.89 2157.61,131.506 2013.48,131.506 2013.48,179.89 \n",
       "  \"/>\n",
       "<path clip-path=\"url(#clip940)\" d=\"M 0 0 M2195.47 175.385 Q2193.67 180.015 2191.95 181.427 Q2190.24 182.839 2187.37 182.839 L2183.97 182.839 L2183.97 179.274 L2186.47 179.274 Q2188.23 179.274 2189.2 178.44 Q2190.17 177.607 2191.35 174.505 L2192.11 172.561 L2181.63 147.052 L2186.14 147.052 L2194.24 167.329 L2202.35 147.052 L2206.86 147.052 L2195.47 175.385 Z\" fill=\"#000000\" fill-rule=\"evenodd\" fill-opacity=\"1\" /><path clip-path=\"url(#clip940)\" d=\"M 0 0 M2212.74 169.042 L2220.38 169.042 L2220.38 142.677 L2212.07 144.343 L2212.07 140.084 L2220.33 138.418 L2225.01 138.418 L2225.01 169.042 L2232.65 169.042 L2232.65 172.978 L2212.74 172.978 L2212.74 169.042 Z\" fill=\"#000000\" fill-rule=\"evenodd\" fill-opacity=\"1\" /></svg>\n"
      ]
     },
     "execution_count": 132,
     "metadata": {},
     "output_type": "execute_result"
    }
   ],
   "source": [
    "bar(bins, hist, color = :midnightblue)"
   ]
  },
  {
   "cell_type": "code",
   "execution_count": 66,
   "metadata": {},
   "outputs": [
    {
     "ename": "ArgumentError",
     "evalue": "ArgumentError: \"../data/table/desinventar/Info.csv\" is not a valid file",
     "output_type": "error",
     "traceback": [
      "ArgumentError: \"../data/table/desinventar/Info.csv\" is not a valid file",
      "",
      "Stacktrace:",
      " [1] CSV.Header(::String, ::Int64, ::Bool, ::Int64, ::Nothing, ::Int64, ::Bool, ::Nothing, ::Nothing, ::Bool, ::Nothing, ::Nothing, ::Array{String,1}, ::String, ::Nothing, ::Bool, ::Char, ::Nothing, ::Nothing, ::Char, ::Nothing, ::Nothing, ::UInt8, ::Array{String,1}, ::Array{String,1}, ::Nothing, ::Nothing, ::Dict{Type,Type}, ::Nothing, ::Float64, ::Bool, ::Bool, ::Bool, ::Bool, ::Bool, ::Bool) at /home/seospina/.julia/packages/CSV/UWuB2/src/header.jl:92",
      " [2] CSV.File(::String; header::Int64, normalizenames::Bool, datarow::Int64, skipto::Nothing, footerskip::Int64, transpose::Bool, comment::Nothing, use_mmap::Nothing, ignoreemptylines::Bool, select::Nothing, drop::Nothing, missingstrings::Array{String,1}, missingstring::String, delim::Nothing, ignorerepeated::Bool, quotechar::Char, openquotechar::Nothing, closequotechar::Nothing, escapechar::Char, dateformat::Nothing, dateformats::Nothing, decimal::UInt8, truestrings::Array{String,1}, falsestrings::Array{String,1}, type::Nothing, types::Nothing, typemap::Dict{Type,Type}, categorical::Nothing, pool::Float64, lazystrings::Bool, strict::Bool, silencewarnings::Bool, debug::Bool, parsingdebug::Bool, kw::Base.Iterators.Pairs{Union{},Union{},Tuple{},NamedTuple{(),Tuple{}}}) at /home/seospina/.julia/packages/CSV/UWuB2/src/file.jl:216",
      " [3] CSV.File(::String) at /home/seospina/.julia/packages/CSV/UWuB2/src/file.jl:216",
      " [4] top-level scope at In[66]:1"
     ]
    }
   ],
   "source": [
    "Info = DataFrame!(CSV.File(\"../data/table/desinventar/Info.csv\"));\n",
    "EEData = DataFrame!(CSV.File(\"../data/table/desinventar/EEData.csv\"));\n",
    "Event = DataFrame!(CSV.File(\"../data/table/desinventar/Event.csv\"));\n",
    "Geography = DataFrame!(CSV.File(\"../data/table/desinventar/Geography.csv\"));\n",
    "GeoCarto = DataFrame!(CSV.File(\"../data/table/desinventar/GeoCarto.csv\"));\n",
    "GeoLevel = DataFrame!(CSV.File(\"../data/table/desinventar/GeoLevel.csv\"));\n",
    "Cause = DataFrame!(CSV.File(\"../data/table/desinventar/Cause.csv\"));\n",
    "Disaster = DataFrame!(CSV.File(\"../data/table/desinventar/Disaster.csv\"));\n"
   ]
  },
  {
   "cell_type": "code",
   "execution_count": null,
   "metadata": {},
   "outputs": [],
   "source": []
  },
  {
   "cell_type": "code",
   "execution_count": null,
   "metadata": {},
   "outputs": [],
   "source": [
    "Caus"
   ]
  },
  {
   "cell_type": "code",
   "execution_count": 42,
   "metadata": {},
   "outputs": [
    {
     "data": {
      "text/plain": [
       "58-element Array{String,1}:\n",
       " \"DisasterId\"\n",
       " \"RegionId\"\n",
       " \"DisasterSerial\"\n",
       " \"DisasterBeginTime\"\n",
       " \"GeographyId\"\n",
       " \"DisasterSiteNotes\"\n",
       " \"DisasterLatitude\"\n",
       " \"DisasterLongitude\"\n",
       " \"DisasterSource\"\n",
       " \"RecordStatus\"\n",
       " \"RecordAuthor\"\n",
       " \"EventId\"\n",
       " \"EventNotes\"\n",
       " ⋮\n",
       " \"SectorRelief\"\n",
       " \"SectorAgricultural\"\n",
       " \"SectorWaterSupply\"\n",
       " \"SectorSewerage\"\n",
       " \"SectorEducation\"\n",
       " \"SectorPower\"\n",
       " \"SectorIndustry\"\n",
       " \"SectorHealth\"\n",
       " \"SectorOther\"\n",
       " \"RecordCreation\"\n",
       " \"RecordSync\"\n",
       " \"RecordUpdate\""
      ]
     },
     "execution_count": 42,
     "metadata": {},
     "output_type": "execute_result"
    }
   ],
   "source": [
    "names(Disaster.GeographyId)"
   ]
  },
  {
   "cell_type": "code",
   "execution_count": 39,
   "metadata": {},
   "outputs": [
    {
     "name": "stdout",
     "output_type": "stream",
     "text": [
      "total 100M\n",
      "-rw-r--r-- 1 seospina seospina 2,6K jun 13  2012 admin00.dbf\n",
      "-rw-r--r-- 1 seospina seospina 480K nov 22  2011 admin00.shp\n",
      "-rw-r--r-- 1 seospina seospina  388 nov 22  2011 admin00.shx\n",
      "-rw-r--r-- 1 seospina seospina 287K nov 22  2011 admin01.dbf\n",
      "-rw-r--r-- 1 seospina seospina 4,2M nov 22  2011 admin01.shp\n",
      "-rw-r--r-- 1 seospina seospina 9,0K nov 22  2011 admin01.shx\n",
      "-rw-rw-r-- 1 seospina seospina  13K jul 23 22:07 Cause.csv\n",
      "-rw-rw-r-- 1 seospina seospina    0 jul 23 22:07 DatabaseLog.csv\n",
      "-rw-r--r-- 1 seospina seospina  52M jul 23 22:20 desinventar.db\n",
      "-rw-rw-r-- 1 seospina seospina  31M jul 23 22:07 Disaster.csv\n",
      "-rw-rw-r-- 1 seospina seospina  14M jul 23 22:07 EEData.csv\n",
      "-rw-rw-r-- 1 seospina seospina  20K jul 23 22:07 EEField.csv\n",
      "-rw-rw-r-- 1 seospina seospina  239 jul 23 22:07 EEGroup.csv\n",
      "-rw-rw-r-- 1 seospina seospina  15K jul 23 22:07 Event.csv\n",
      "-rw-rw-r-- 1 seospina seospina  457 jul 23 22:07 GeoCarto.csv\n",
      "-rw-rw-r-- 1 seospina seospina 149K jul 23 22:07 Geography.csv\n",
      "-rw-rw-r-- 1 seospina seospina  332 jul 23 22:07 GeoLevel.csv\n",
      "-rw-rw-r-- 1 seospina seospina 9,4K jul 23 22:07 Info.csv\n",
      "-rw-r--r-- 1 seospina seospina 5,6K jul 23 22:20 info.xml\n",
      "-rw-rw-r-- 1 seospina seospina    0 jul 23 22:07 Sync.csv\n"
     ]
    },
    {
     "data": {
      "text/plain": [
       "Process(`\u001b[4mls\u001b[24m \u001b[4m-lh\u001b[24m \u001b[4m../data/table/desinventar/\u001b[24m`, ProcessExited(0))"
      ]
     },
     "execution_count": 39,
     "metadata": {},
     "output_type": "execute_result"
    }
   ],
   "source": [
    "run(`ls -lh ../data/table/desinventar/`)"
   ]
  },
  {
   "cell_type": "code",
   "execution_count": 34,
   "metadata": {},
   "outputs": [
    {
     "data": {
      "text/plain": [
       "10-element Array{String,1}:\n",
       " \"2009-11-11 18:32:35\"\n",
       " \"2009-12-26T15:36:32+00:00\"\n",
       " \"2009-12-26T15:36:33+00:00\"\n",
       " \"2009-12-26T15:36:37+00:00\"\n",
       " \"2009-12-26T15:36:38+00:00\"\n",
       " \"2009-12-26T15:36:40+00:00\"\n",
       " \"2009-12-26T15:36:43+00:00\"\n",
       " \"2009-12-26T15:36:45+00:00\"\n",
       " \"2009-12-26T15:36:49+00:00\"\n",
       " \"2009-12-26T15:36:53+00:00\""
      ]
     },
     "execution_count": 34,
     "metadata": {},
     "output_type": "execute_result"
    }
   ],
   "source": [
    "unique(Geography.)"
   ]
  },
  {
   "cell_type": "code",
   "execution_count": 25,
   "metadata": {},
   "outputs": [
    {
     "data": {
      "text/plain": [
       "11-element Array{String,1}:\n",
       " \"GeographyId\"\n",
       " \"LangIsoCode\"\n",
       " \"RegionId\"\n",
       " \"GeographyCode\"\n",
       " \"GeographyName\"\n",
       " \"GeographyFQName\"\n",
       " \"GeographyLevel\"\n",
       " \"GeographyActive\"\n",
       " \"RecordCreation\"\n",
       " \"RecordSync\"\n",
       " \"RecordUpdate\""
      ]
     },
     "execution_count": 25,
     "metadata": {},
     "output_type": "execute_result"
    }
   ],
   "source": [
    "names(Geography)"
   ]
  },
  {
   "cell_type": "code",
   "execution_count": 15,
   "metadata": {},
   "outputs": [
    {
     "data": {
      "text/plain": [
       "40-element Array{String,1}:\n",
       " \"Accidente\"\n",
       " \"Alud\"\n",
       " \"Aluvión\"\n",
       " \"Avenida torrencial\"\n",
       " \"Biológico\"\n",
       " \"Contaminación\"\n",
       " \"Deslizamiento\"\n",
       " \"Epidemia\"\n",
       " \"Actividad volcánica\"\n",
       " \"Escape\"\n",
       " \"Colapso estructural\"\n",
       " \"Explosión\"\n",
       " \"Incendio forestal\"\n",
       " ⋮\n",
       " \"Sequía\"\n",
       " \"Sismo\"\n",
       " \"Tempestad\"\n",
       " \"Tormenta eléctrica\"\n",
       " \"Tornado\"\n",
       " \"Tsunami\"\n",
       " \"Vendaval\"\n",
       " \"Otro\"\n",
       " \"Intoxicación\"\n",
       " \"Erosión\"\n",
       " \"Represamiento\"\n",
       " \"Naufragio\""
      ]
     },
     "execution_count": 15,
     "metadata": {},
     "output_type": "execute_result"
    }
   ],
   "source": [
    "unique(Event.EventName)"
   ]
  },
  {
   "cell_type": "code",
   "execution_count": null,
   "metadata": {},
   "outputs": [],
   "source": [
    "Event"
   ]
  },
  {
   "cell_type": "code",
   "execution_count": null,
   "metadata": {},
   "outputs": [],
   "source": []
  },
  {
   "cell_type": "code",
   "execution_count": 8,
   "metadata": {},
   "outputs": [
    {
     "data": {
      "text/html": [
       "<table class=\"data-frame\"><thead><tr><th></th><th>DisasterId</th><th>RecordCreation</th><th>RecordSync</th></tr><tr><th></th><th>String</th><th>String?</th><th>String?</th></tr></thead><tbody><p>54,374 rows × 113 columns (omitted printing of 110 columns)</p><tr><th>1</th><td>000686ef-f4b9-4139-ab63-68c4e0b08136</td><td>2009-11-11 18:33:13</td><td>2009-11-11 18:33:13</td></tr><tr><th>2</th><td>00070371-a5fa-4bf3-9d9c-87cb2c434634</td><td>2009-11-11 18:33:13</td><td>2009-11-11 18:33:13</td></tr><tr><th>3</th><td>00088243-66d7-467d-8b16-a162fcda419a</td><td>2009-11-11 18:33:13</td><td>2009-11-11 18:33:13</td></tr><tr><th>4</th><td>0009532e-31d6-44c2-9449-4caaff24b0be</td><td>2009-11-11 18:33:13</td><td>2009-11-11 18:33:13</td></tr><tr><th>5</th><td>000a2829-192c-4b8a-919c-e9033ceae9ed</td><td>2009-11-11 18:33:13</td><td>2009-11-11 18:33:13</td></tr><tr><th>6</th><td>000b0da5-28d7-47dc-a43c-933b94373209</td><td>2009-11-11 18:33:13</td><td>2009-11-11 18:33:13</td></tr><tr><th>7</th><td>000ba9a7-98a9-41ac-b466-b9c0746fa72e</td><td>2009-11-11 18:33:13</td><td>2009-11-11 18:33:13</td></tr><tr><th>8</th><td>000c9fe2-7c6e-46c4-a946-8aeabf0b96ca</td><td>2009-11-11 18:33:13</td><td>2009-11-11 18:33:13</td></tr><tr><th>9</th><td>0011efce-6853-4c39-bde3-2f384bd53f52</td><td>2009-11-11 18:33:13</td><td>2009-11-11 18:33:13</td></tr><tr><th>10</th><td>0019aabd-d6a6-4bdd-9bcd-c85c12802574</td><td>2009-11-11 18:33:13</td><td>2009-11-11 18:33:13</td></tr><tr><th>11</th><td>0022af66-5ba9-47fc-be37-d100ab84f71c</td><td>2009-11-11 18:33:13</td><td>2009-11-11 18:33:13</td></tr><tr><th>12</th><td>002336c2-adf9-4b23-9d98-4d51fa7a9c6a</td><td>2009-11-11 18:33:13</td><td>2009-11-11 18:33:13</td></tr><tr><th>13</th><td>00250960-ec38-47c9-9f5d-c18227053d4e</td><td>2009-11-11 18:33:13</td><td>2009-11-11 18:33:13</td></tr><tr><th>14</th><td>0025738b-af83-47e6-8b2e-a5f3a9065593</td><td>2009-11-11 18:33:13</td><td>2009-11-11 18:33:13</td></tr><tr><th>15</th><td>002b9b5a-90d6-4b07-b202-df732a57910c</td><td>2009-11-11 18:33:13</td><td>2009-11-11 18:33:13</td></tr><tr><th>16</th><td>002c70a7-b909-42c3-b549-17975f28499d</td><td>2009-11-11 18:33:13</td><td>2009-11-11 18:33:13</td></tr><tr><th>17</th><td>002caa58-6453-4997-b097-4d8dd6682b8d</td><td>2009-11-11 18:33:13</td><td>2009-11-11 18:33:13</td></tr><tr><th>18</th><td>002f5f9f-88ad-4a66-ba35-a242f64cf90b</td><td>2009-11-11 18:33:13</td><td>2009-11-11 18:33:13</td></tr><tr><th>19</th><td>00345065-401e-45db-8bcb-55608f873286</td><td>2009-11-11 18:33:13</td><td>2009-11-11 18:33:13</td></tr><tr><th>20</th><td>0038b31f-e717-4fd8-a537-d10cc1a36367</td><td>2009-11-11 18:33:13</td><td>2009-11-11 18:33:13</td></tr><tr><th>21</th><td>0038ffcf-fde4-4eea-8818-7b6ebe1d291d</td><td>2009-11-11 18:33:13</td><td>2009-11-11 18:33:13</td></tr><tr><th>22</th><td>003e6857-eaa9-4c8c-b775-432e699f762b</td><td>2009-11-11 18:33:13</td><td>2009-11-11 18:33:13</td></tr><tr><th>23</th><td>003e6a75-5d29-4e67-9c7b-17270faae2e6</td><td>2009-11-11 18:33:13</td><td>2009-11-11 18:33:13</td></tr><tr><th>24</th><td>003fe245-0c07-4853-afae-b3ba90ad35be</td><td>2009-11-11 18:33:13</td><td>2009-11-11 18:33:13</td></tr><tr><th>25</th><td>004373f2-c94a-450b-8db6-4f838137d7c8</td><td>2009-11-11 18:33:13</td><td>2009-11-11 18:33:13</td></tr><tr><th>26</th><td>0047b763-10bb-4a91-abf0-187c185ed537</td><td>2009-11-11 18:33:13</td><td>2009-11-11 18:33:13</td></tr><tr><th>27</th><td>0048a6ce-3507-4970-8079-237541b10805</td><td>2009-11-11 18:33:13</td><td>2009-11-11 18:33:13</td></tr><tr><th>28</th><td>004e895d-7f8a-4bfb-a74a-9ff3c849dfaa</td><td>2009-11-11 18:33:13</td><td>2009-11-11 18:33:13</td></tr><tr><th>29</th><td>0054bd8a-ca69-406d-8a33-b4b05464754c</td><td>2009-11-11 18:33:13</td><td>2009-11-11 18:33:13</td></tr><tr><th>30</th><td>00568323-ff4a-49f9-ba45-ea309955cf6a</td><td>2009-11-11 18:33:13</td><td>2009-11-11 18:33:13</td></tr><tr><th>&vellip;</th><td>&vellip;</td><td>&vellip;</td><td>&vellip;</td></tr></tbody></table>"
      ],
      "text/latex": [
       "\\begin{tabular}{r|cccc}\n",
       "\t& DisasterId & RecordCreation & RecordSync & \\\\\n",
       "\t\\hline\n",
       "\t& String & String? & String? & \\\\\n",
       "\t\\hline\n",
       "\t1 & 000686ef-f4b9-4139-ab63-68c4e0b08136 & 2009-11-11 18:33:13 & 2009-11-11 18:33:13 & $\\dots$ \\\\\n",
       "\t2 & 00070371-a5fa-4bf3-9d9c-87cb2c434634 & 2009-11-11 18:33:13 & 2009-11-11 18:33:13 & $\\dots$ \\\\\n",
       "\t3 & 00088243-66d7-467d-8b16-a162fcda419a & 2009-11-11 18:33:13 & 2009-11-11 18:33:13 & $\\dots$ \\\\\n",
       "\t4 & 0009532e-31d6-44c2-9449-4caaff24b0be & 2009-11-11 18:33:13 & 2009-11-11 18:33:13 & $\\dots$ \\\\\n",
       "\t5 & 000a2829-192c-4b8a-919c-e9033ceae9ed & 2009-11-11 18:33:13 & 2009-11-11 18:33:13 & $\\dots$ \\\\\n",
       "\t6 & 000b0da5-28d7-47dc-a43c-933b94373209 & 2009-11-11 18:33:13 & 2009-11-11 18:33:13 & $\\dots$ \\\\\n",
       "\t7 & 000ba9a7-98a9-41ac-b466-b9c0746fa72e & 2009-11-11 18:33:13 & 2009-11-11 18:33:13 & $\\dots$ \\\\\n",
       "\t8 & 000c9fe2-7c6e-46c4-a946-8aeabf0b96ca & 2009-11-11 18:33:13 & 2009-11-11 18:33:13 & $\\dots$ \\\\\n",
       "\t9 & 0011efce-6853-4c39-bde3-2f384bd53f52 & 2009-11-11 18:33:13 & 2009-11-11 18:33:13 & $\\dots$ \\\\\n",
       "\t10 & 0019aabd-d6a6-4bdd-9bcd-c85c12802574 & 2009-11-11 18:33:13 & 2009-11-11 18:33:13 & $\\dots$ \\\\\n",
       "\t11 & 0022af66-5ba9-47fc-be37-d100ab84f71c & 2009-11-11 18:33:13 & 2009-11-11 18:33:13 & $\\dots$ \\\\\n",
       "\t12 & 002336c2-adf9-4b23-9d98-4d51fa7a9c6a & 2009-11-11 18:33:13 & 2009-11-11 18:33:13 & $\\dots$ \\\\\n",
       "\t13 & 00250960-ec38-47c9-9f5d-c18227053d4e & 2009-11-11 18:33:13 & 2009-11-11 18:33:13 & $\\dots$ \\\\\n",
       "\t14 & 0025738b-af83-47e6-8b2e-a5f3a9065593 & 2009-11-11 18:33:13 & 2009-11-11 18:33:13 & $\\dots$ \\\\\n",
       "\t15 & 002b9b5a-90d6-4b07-b202-df732a57910c & 2009-11-11 18:33:13 & 2009-11-11 18:33:13 & $\\dots$ \\\\\n",
       "\t16 & 002c70a7-b909-42c3-b549-17975f28499d & 2009-11-11 18:33:13 & 2009-11-11 18:33:13 & $\\dots$ \\\\\n",
       "\t17 & 002caa58-6453-4997-b097-4d8dd6682b8d & 2009-11-11 18:33:13 & 2009-11-11 18:33:13 & $\\dots$ \\\\\n",
       "\t18 & 002f5f9f-88ad-4a66-ba35-a242f64cf90b & 2009-11-11 18:33:13 & 2009-11-11 18:33:13 & $\\dots$ \\\\\n",
       "\t19 & 00345065-401e-45db-8bcb-55608f873286 & 2009-11-11 18:33:13 & 2009-11-11 18:33:13 & $\\dots$ \\\\\n",
       "\t20 & 0038b31f-e717-4fd8-a537-d10cc1a36367 & 2009-11-11 18:33:13 & 2009-11-11 18:33:13 & $\\dots$ \\\\\n",
       "\t21 & 0038ffcf-fde4-4eea-8818-7b6ebe1d291d & 2009-11-11 18:33:13 & 2009-11-11 18:33:13 & $\\dots$ \\\\\n",
       "\t22 & 003e6857-eaa9-4c8c-b775-432e699f762b & 2009-11-11 18:33:13 & 2009-11-11 18:33:13 & $\\dots$ \\\\\n",
       "\t23 & 003e6a75-5d29-4e67-9c7b-17270faae2e6 & 2009-11-11 18:33:13 & 2009-11-11 18:33:13 & $\\dots$ \\\\\n",
       "\t24 & 003fe245-0c07-4853-afae-b3ba90ad35be & 2009-11-11 18:33:13 & 2009-11-11 18:33:13 & $\\dots$ \\\\\n",
       "\t25 & 004373f2-c94a-450b-8db6-4f838137d7c8 & 2009-11-11 18:33:13 & 2009-11-11 18:33:13 & $\\dots$ \\\\\n",
       "\t26 & 0047b763-10bb-4a91-abf0-187c185ed537 & 2009-11-11 18:33:13 & 2009-11-11 18:33:13 & $\\dots$ \\\\\n",
       "\t27 & 0048a6ce-3507-4970-8079-237541b10805 & 2009-11-11 18:33:13 & 2009-11-11 18:33:13 & $\\dots$ \\\\\n",
       "\t28 & 004e895d-7f8a-4bfb-a74a-9ff3c849dfaa & 2009-11-11 18:33:13 & 2009-11-11 18:33:13 & $\\dots$ \\\\\n",
       "\t29 & 0054bd8a-ca69-406d-8a33-b4b05464754c & 2009-11-11 18:33:13 & 2009-11-11 18:33:13 & $\\dots$ \\\\\n",
       "\t30 & 00568323-ff4a-49f9-ba45-ea309955cf6a & 2009-11-11 18:33:13 & 2009-11-11 18:33:13 & $\\dots$ \\\\\n",
       "\t$\\dots$ & $\\dots$ & $\\dots$ & $\\dots$ &  \\\\\n",
       "\\end{tabular}\n"
      ],
      "text/plain": [
       "54374×113 DataFrame. Omitted printing of 111 columns\n",
       "│ Row   │ DisasterId                           │ RecordCreation      │\n",
       "│       │ \u001b[90mString\u001b[39m                               │ \u001b[90mString?\u001b[39m             │\n",
       "├───────┼──────────────────────────────────────┼─────────────────────┤\n",
       "│ 1     │ 000686ef-f4b9-4139-ab63-68c4e0b08136 │ 2009-11-11 18:33:13 │\n",
       "│ 2     │ 00070371-a5fa-4bf3-9d9c-87cb2c434634 │ 2009-11-11 18:33:13 │\n",
       "│ 3     │ 00088243-66d7-467d-8b16-a162fcda419a │ 2009-11-11 18:33:13 │\n",
       "│ 4     │ 0009532e-31d6-44c2-9449-4caaff24b0be │ 2009-11-11 18:33:13 │\n",
       "│ 5     │ 000a2829-192c-4b8a-919c-e9033ceae9ed │ 2009-11-11 18:33:13 │\n",
       "│ 6     │ 000b0da5-28d7-47dc-a43c-933b94373209 │ 2009-11-11 18:33:13 │\n",
       "│ 7     │ 000ba9a7-98a9-41ac-b466-b9c0746fa72e │ 2009-11-11 18:33:13 │\n",
       "│ 8     │ 000c9fe2-7c6e-46c4-a946-8aeabf0b96ca │ 2009-11-11 18:33:13 │\n",
       "│ 9     │ 0011efce-6853-4c39-bde3-2f384bd53f52 │ 2009-11-11 18:33:13 │\n",
       "│ 10    │ 0019aabd-d6a6-4bdd-9bcd-c85c12802574 │ 2009-11-11 18:33:13 │\n",
       "⋮\n",
       "│ 54364 │ aea07b95-959a-4ec0-9c9a-8ddd3b38b360 │ \u001b[90mmissing\u001b[39m             │\n",
       "│ 54365 │ 9a6af793-796a-4742-a8b5-7d7131837b60 │ \u001b[90mmissing\u001b[39m             │\n",
       "│ 54366 │ 7647bc04-7ec3-4a7c-afde-833915e46b36 │ \u001b[90mmissing\u001b[39m             │\n",
       "│ 54367 │ d9326c9d-dfda-4b78-b4d2-8538faf8c3c5 │ \u001b[90mmissing\u001b[39m             │\n",
       "│ 54368 │ 518ea1d4-558d-4bdb-8ca6-1463af165a82 │ \u001b[90mmissing\u001b[39m             │\n",
       "│ 54369 │ d5107a53-5187-4eda-85a6-cc16f30a0967 │ \u001b[90mmissing\u001b[39m             │\n",
       "│ 54370 │ 2a78e9b1-6edf-4a5a-940e-7f61fdd6010a │ \u001b[90mmissing\u001b[39m             │\n",
       "│ 54371 │ 60f218b9-3e54-4f70-94a8-6232251000a5 │ \u001b[90mmissing\u001b[39m             │\n",
       "│ 54372 │ 4f266ad9-7885-4e5c-8bbb-0499c055edb7 │ \u001b[90mmissing\u001b[39m             │\n",
       "│ 54373 │ 36159b22-5377-4b53-9f0a-76f6c7509e92 │ \u001b[90mmissing\u001b[39m             │\n",
       "│ 54374 │ 610f03df-089e-4e55-8c74-e50e90cc3557 │ \u001b[90mmissing\u001b[39m             │"
      ]
     },
     "execution_count": 8,
     "metadata": {},
     "output_type": "execute_result"
    }
   ],
   "source": [
    "EEData"
   ]
  },
  {
   "cell_type": "code",
   "execution_count": 4,
   "metadata": {},
   "outputs": [
    {
     "name": "stderr",
     "output_type": "stream",
     "text": [
      "┌ Warning: `CSV.read(input; kw...)` is deprecated in favor of `DataFrame!(CSV.File(input; kw...))`\n",
      "└ @ CSV /home/seospina/.julia/packages/CSV/UWuB2/src/CSV.jl:40\n"
     ]
    },
    {
     "data": {
      "text/html": [
       "<table class=\"data-frame\"><thead><tr><th></th><th>DisasterId</th><th>RegionId</th><th>DisasterSerial</th><th>DisasterBeginTime</th></tr><tr><th></th><th>String</th><th>String?</th><th>String</th><th>String</th></tr></thead><tbody><p>54,374 rows × 58 columns (omitted printing of 54 columns)</p><tr><th>1</th><td>783da402-059b-455c-b6fc-66b0852b4504</td><td><em>missing</em></td><td>1984-0466</td><td>1984-10-25</td></tr><tr><th>2</th><td>2fba1bfd-9594-4044-9d91-c01aad1b5981</td><td><em>missing</em></td><td>1984-0467</td><td>1984-10-25</td></tr><tr><th>3</th><td>18751211-263e-491e-b5c3-2b2e7bcaa274</td><td><em>missing</em></td><td>1984-0468</td><td>1984-10-25</td></tr><tr><th>4</th><td>b4f283d2-3e71-4086-90a3-ec90e928a176</td><td><em>missing</em></td><td>1984-0469</td><td>1984-10-25</td></tr><tr><th>5</th><td>000c9fe2-7c6e-46c4-a946-8aeabf0b96ca</td><td><em>missing</em></td><td>1984-0470</td><td>1984-10-25</td></tr><tr><th>6</th><td>ad09c6f8-ba08-4fd3-99b1-ccced4b0ae3d</td><td><em>missing</em></td><td>1984-0471</td><td>1984-10-26</td></tr><tr><th>7</th><td>c9706ec1-818c-42fd-ab39-4c93f5c7171f</td><td><em>missing</em></td><td>1984-0472</td><td>1984-10-26</td></tr><tr><th>8</th><td>d07d0555-dc90-454f-9d70-2f40812a459e</td><td><em>missing</em></td><td>1984-0473</td><td>1984-10-26</td></tr><tr><th>9</th><td>855aaf2f-ff9d-40d0-ab12-a0a40ce19ec6</td><td><em>missing</em></td><td>1984-0474</td><td>1984-10-26</td></tr><tr><th>10</th><td>490b96b9-5fa8-4fe3-ab5d-2f762de2eac7</td><td><em>missing</em></td><td>1984-0476</td><td>1984-10-27</td></tr><tr><th>11</th><td>f2d567fb-ea84-443c-aaff-b97989e95142</td><td><em>missing</em></td><td>1984-0477</td><td>1984-10-27</td></tr><tr><th>12</th><td>b45c79d7-18b4-454e-8f81-3be7d5617a09</td><td><em>missing</em></td><td>1984-0478</td><td>1984-10-27</td></tr><tr><th>13</th><td>6ba801d1-e949-414e-ad79-0ef4b818f86b</td><td><em>missing</em></td><td>1984-0475</td><td>1984-10-27</td></tr><tr><th>14</th><td>8f7b7bd9-ae29-44e7-af5d-f29c0013c07f</td><td><em>missing</em></td><td>1984-0479</td><td>1984-10-28</td></tr><tr><th>15</th><td>813f4a75-e97c-411a-84f7-06f99c9360e0</td><td><em>missing</em></td><td>1984-0480</td><td>1984-10-28</td></tr><tr><th>16</th><td>d433164d-2c36-4ca4-9fc2-9e1c86252dce</td><td><em>missing</em></td><td>1984-0496</td><td>1984-10-29</td></tr><tr><th>17</th><td>9d96e8e5-afd2-410d-8773-18e1dd660973</td><td><em>missing</em></td><td>1984-0493</td><td>1984-10-29</td></tr><tr><th>18</th><td>8207d89e-8f4b-4b5d-a4d8-852fa1bd98cd</td><td><em>missing</em></td><td>1984-0497</td><td>1984-10-29</td></tr><tr><th>19</th><td>d226d2ca-e4c0-475e-8084-53b520788c70</td><td><em>missing</em></td><td>1984-0498</td><td>1984-10-29</td></tr><tr><th>20</th><td>12fc241c-1bfb-42e8-bd37-7955cbc43b7c</td><td><em>missing</em></td><td>1984-0499</td><td>1984-10-29</td></tr><tr><th>21</th><td>dc52100f-516a-4705-b47b-5f8b1b98e5e8</td><td><em>missing</em></td><td>1984-0500</td><td>1984-10-29</td></tr><tr><th>22</th><td>b9da3950-c341-4baa-b2ae-5451d3c0f458</td><td><em>missing</em></td><td>1984-0506</td><td>1984-10-29</td></tr><tr><th>23</th><td>736df168-36c4-4fae-81d5-3e457e67643a</td><td><em>missing</em></td><td>1984-0502</td><td>1984-10-29</td></tr><tr><th>24</th><td>358febf5-485a-4fc7-a308-6df090dfee1a</td><td><em>missing</em></td><td>1984-0503</td><td>1984-10-29</td></tr><tr><th>25</th><td>f483590c-0d5f-4da6-9200-71ca56e2877b</td><td><em>missing</em></td><td>1984-0504</td><td>1984-10-29</td></tr><tr><th>26</th><td>25585756-f8c7-45de-91cb-03c8419d716c</td><td><em>missing</em></td><td>1984-0501</td><td>1984-10-29</td></tr><tr><th>27</th><td>960c7791-55f0-451d-8a3d-bb80ffe48185</td><td><em>missing</em></td><td>1984-0505</td><td>1984-10-29</td></tr><tr><th>28</th><td>9c4a1f27-bd8a-4b47-b82b-176d9ec7be5f</td><td><em>missing</em></td><td>1984-0495</td><td>1984-10-29</td></tr><tr><th>29</th><td>28f4bf65-f670-42e1-8411-21ccfc38801a</td><td><em>missing</em></td><td>1984-0481</td><td>1984-10-29</td></tr><tr><th>30</th><td>bfb75397-c624-436b-888a-1571d0b2cd96</td><td><em>missing</em></td><td>1984-0492</td><td>1984-10-29</td></tr><tr><th>&vellip;</th><td>&vellip;</td><td>&vellip;</td><td>&vellip;</td><td>&vellip;</td></tr></tbody></table>"
      ],
      "text/latex": [
       "\\begin{tabular}{r|ccccc}\n",
       "\t& DisasterId & RegionId & DisasterSerial & DisasterBeginTime & \\\\\n",
       "\t\\hline\n",
       "\t& String & String? & String & String & \\\\\n",
       "\t\\hline\n",
       "\t1 & 783da402-059b-455c-b6fc-66b0852b4504 & \\emph{missing} & 1984-0466 & 1984-10-25 & $\\dots$ \\\\\n",
       "\t2 & 2fba1bfd-9594-4044-9d91-c01aad1b5981 & \\emph{missing} & 1984-0467 & 1984-10-25 & $\\dots$ \\\\\n",
       "\t3 & 18751211-263e-491e-b5c3-2b2e7bcaa274 & \\emph{missing} & 1984-0468 & 1984-10-25 & $\\dots$ \\\\\n",
       "\t4 & b4f283d2-3e71-4086-90a3-ec90e928a176 & \\emph{missing} & 1984-0469 & 1984-10-25 & $\\dots$ \\\\\n",
       "\t5 & 000c9fe2-7c6e-46c4-a946-8aeabf0b96ca & \\emph{missing} & 1984-0470 & 1984-10-25 & $\\dots$ \\\\\n",
       "\t6 & ad09c6f8-ba08-4fd3-99b1-ccced4b0ae3d & \\emph{missing} & 1984-0471 & 1984-10-26 & $\\dots$ \\\\\n",
       "\t7 & c9706ec1-818c-42fd-ab39-4c93f5c7171f & \\emph{missing} & 1984-0472 & 1984-10-26 & $\\dots$ \\\\\n",
       "\t8 & d07d0555-dc90-454f-9d70-2f40812a459e & \\emph{missing} & 1984-0473 & 1984-10-26 & $\\dots$ \\\\\n",
       "\t9 & 855aaf2f-ff9d-40d0-ab12-a0a40ce19ec6 & \\emph{missing} & 1984-0474 & 1984-10-26 & $\\dots$ \\\\\n",
       "\t10 & 490b96b9-5fa8-4fe3-ab5d-2f762de2eac7 & \\emph{missing} & 1984-0476 & 1984-10-27 & $\\dots$ \\\\\n",
       "\t11 & f2d567fb-ea84-443c-aaff-b97989e95142 & \\emph{missing} & 1984-0477 & 1984-10-27 & $\\dots$ \\\\\n",
       "\t12 & b45c79d7-18b4-454e-8f81-3be7d5617a09 & \\emph{missing} & 1984-0478 & 1984-10-27 & $\\dots$ \\\\\n",
       "\t13 & 6ba801d1-e949-414e-ad79-0ef4b818f86b & \\emph{missing} & 1984-0475 & 1984-10-27 & $\\dots$ \\\\\n",
       "\t14 & 8f7b7bd9-ae29-44e7-af5d-f29c0013c07f & \\emph{missing} & 1984-0479 & 1984-10-28 & $\\dots$ \\\\\n",
       "\t15 & 813f4a75-e97c-411a-84f7-06f99c9360e0 & \\emph{missing} & 1984-0480 & 1984-10-28 & $\\dots$ \\\\\n",
       "\t16 & d433164d-2c36-4ca4-9fc2-9e1c86252dce & \\emph{missing} & 1984-0496 & 1984-10-29 & $\\dots$ \\\\\n",
       "\t17 & 9d96e8e5-afd2-410d-8773-18e1dd660973 & \\emph{missing} & 1984-0493 & 1984-10-29 & $\\dots$ \\\\\n",
       "\t18 & 8207d89e-8f4b-4b5d-a4d8-852fa1bd98cd & \\emph{missing} & 1984-0497 & 1984-10-29 & $\\dots$ \\\\\n",
       "\t19 & d226d2ca-e4c0-475e-8084-53b520788c70 & \\emph{missing} & 1984-0498 & 1984-10-29 & $\\dots$ \\\\\n",
       "\t20 & 12fc241c-1bfb-42e8-bd37-7955cbc43b7c & \\emph{missing} & 1984-0499 & 1984-10-29 & $\\dots$ \\\\\n",
       "\t21 & dc52100f-516a-4705-b47b-5f8b1b98e5e8 & \\emph{missing} & 1984-0500 & 1984-10-29 & $\\dots$ \\\\\n",
       "\t22 & b9da3950-c341-4baa-b2ae-5451d3c0f458 & \\emph{missing} & 1984-0506 & 1984-10-29 & $\\dots$ \\\\\n",
       "\t23 & 736df168-36c4-4fae-81d5-3e457e67643a & \\emph{missing} & 1984-0502 & 1984-10-29 & $\\dots$ \\\\\n",
       "\t24 & 358febf5-485a-4fc7-a308-6df090dfee1a & \\emph{missing} & 1984-0503 & 1984-10-29 & $\\dots$ \\\\\n",
       "\t25 & f483590c-0d5f-4da6-9200-71ca56e2877b & \\emph{missing} & 1984-0504 & 1984-10-29 & $\\dots$ \\\\\n",
       "\t26 & 25585756-f8c7-45de-91cb-03c8419d716c & \\emph{missing} & 1984-0501 & 1984-10-29 & $\\dots$ \\\\\n",
       "\t27 & 960c7791-55f0-451d-8a3d-bb80ffe48185 & \\emph{missing} & 1984-0505 & 1984-10-29 & $\\dots$ \\\\\n",
       "\t28 & 9c4a1f27-bd8a-4b47-b82b-176d9ec7be5f & \\emph{missing} & 1984-0495 & 1984-10-29 & $\\dots$ \\\\\n",
       "\t29 & 28f4bf65-f670-42e1-8411-21ccfc38801a & \\emph{missing} & 1984-0481 & 1984-10-29 & $\\dots$ \\\\\n",
       "\t30 & bfb75397-c624-436b-888a-1571d0b2cd96 & \\emph{missing} & 1984-0492 & 1984-10-29 & $\\dots$ \\\\\n",
       "\t$\\dots$ & $\\dots$ & $\\dots$ & $\\dots$ & $\\dots$ &  \\\\\n",
       "\\end{tabular}\n"
      ],
      "text/plain": [
       "54374×58 DataFrame. Omitted printing of 57 columns\n",
       "│ Row   │ DisasterId                           │\n",
       "│       │ \u001b[90mString\u001b[39m                               │\n",
       "├───────┼──────────────────────────────────────┤\n",
       "│ 1     │ 783da402-059b-455c-b6fc-66b0852b4504 │\n",
       "│ 2     │ 2fba1bfd-9594-4044-9d91-c01aad1b5981 │\n",
       "│ 3     │ 18751211-263e-491e-b5c3-2b2e7bcaa274 │\n",
       "│ 4     │ b4f283d2-3e71-4086-90a3-ec90e928a176 │\n",
       "│ 5     │ 000c9fe2-7c6e-46c4-a946-8aeabf0b96ca │\n",
       "│ 6     │ ad09c6f8-ba08-4fd3-99b1-ccced4b0ae3d │\n",
       "│ 7     │ c9706ec1-818c-42fd-ab39-4c93f5c7171f │\n",
       "│ 8     │ d07d0555-dc90-454f-9d70-2f40812a459e │\n",
       "│ 9     │ 855aaf2f-ff9d-40d0-ab12-a0a40ce19ec6 │\n",
       "│ 10    │ 490b96b9-5fa8-4fe3-ab5d-2f762de2eac7 │\n",
       "⋮\n",
       "│ 54364 │ aea07b95-959a-4ec0-9c9a-8ddd3b38b360 │\n",
       "│ 54365 │ 9a6af793-796a-4742-a8b5-7d7131837b60 │\n",
       "│ 54366 │ 7647bc04-7ec3-4a7c-afde-833915e46b36 │\n",
       "│ 54367 │ d9326c9d-dfda-4b78-b4d2-8538faf8c3c5 │\n",
       "│ 54368 │ 518ea1d4-558d-4bdb-8ca6-1463af165a82 │\n",
       "│ 54369 │ d5107a53-5187-4eda-85a6-cc16f30a0967 │\n",
       "│ 54370 │ 2a78e9b1-6edf-4a5a-940e-7f61fdd6010a │\n",
       "│ 54371 │ 60f218b9-3e54-4f70-94a8-6232251000a5 │\n",
       "│ 54372 │ 4f266ad9-7885-4e5c-8bbb-0499c055edb7 │\n",
       "│ 54373 │ 36159b22-5377-4b53-9f0a-76f6c7509e92 │\n",
       "│ 54374 │ 610f03df-089e-4e55-8c74-e50e90cc3557 │"
      ]
     },
     "execution_count": 4,
     "metadata": {},
     "output_type": "execute_result"
    }
   ],
   "source": [
    "desinventar = CSV.read(\"../data/table/desinventar/Disaster.csv\")"
   ]
  },
  {
   "cell_type": "code",
   "execution_count": null,
   "metadata": {},
   "outputs": [],
   "source": [
    "desi"
   ]
  },
  {
   "cell_type": "code",
   "execution_count": null,
   "metadata": {},
   "outputs": [],
   "source": [
    "describe"
   ]
  }
 ],
 "metadata": {
  "kernelspec": {
   "display_name": "Julia 1.4.2",
   "language": "julia",
   "name": "julia-1.4"
  },
  "language_info": {
   "file_extension": ".jl",
   "mimetype": "application/julia",
   "name": "julia",
   "version": "1.4.2"
  }
 },
 "nbformat": 4,
 "nbformat_minor": 4
}
